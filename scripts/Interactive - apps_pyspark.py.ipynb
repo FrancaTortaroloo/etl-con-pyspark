{
 "cells": [
  {
   "cell_type": "code",
   "execution_count": null,
   "id": "bd89124c-dd30-4618-85db-57a5d2f989b6",
   "metadata": {},
   "outputs": [],
   "source": [
    "import pyspark\n",
    "from pyspark.sql import SparkSession\n",
    "import functions_pyspark as func\n",
    "from pyspark.sql.types import *\n",
    "from pyspark.sql.functions import *\n",
    "import seaborn as sns\n",
    "import matplotlib.pyplot as plt\n",
    "import pandas as pd"
   ]
  },
  {
   "cell_type": "code",
   "execution_count": null,
   "id": "d9f177f5-d375-4fbe-ad19-69e379a8ece1",
   "metadata": {},
   "outputs": [
    {
     "name": "stderr",
     "output_type": "stream",
     "text": [
      "24/10/25 12:44:45 WARN Utils: Your hostname, MacBook-Pro-de-Nahuel.local resolves to a loopback address: 127.0.0.1; using 192.168.18.36 instead (on interface en7)\n",
      "24/10/25 12:44:45 WARN Utils: Set SPARK_LOCAL_IP if you need to bind to another address\n",
      "Setting default log level to \"WARN\".\n",
      "To adjust logging level use sc.setLogLevel(newLevel). For SparkR, use setLogLevel(newLevel).\n",
      "24/10/25 12:44:46 WARN NativeCodeLoader: Unable to load native-hadoop library for your platform... using builtin-java classes where applicable\n"
     ]
    },
    {
     "name": "stdout",
     "output_type": "stream",
     "text": [
      "+--------------------+--------------+------+-------+----+-----------+----+-----+--------------+--------------------+------------------+------------------+------------+\n",
      "|                 App|      Category|Rating|Reviews|Size|   Installs|Type|Price|Content Rating|              Genres|      Last Updated|       Current Ver| Android Ver|\n",
      "+--------------------+--------------+------+-------+----+-----------+----+-----+--------------+--------------------+------------------+------------------+------------+\n",
      "|Photo Editor & Ca...|ART_AND_DESIGN|   4.1|    159| 19M|    10,000+|Free|    0|      Everyone|        Art & Design|   January 7, 2018|             1.0.0|4.0.3 and up|\n",
      "| Coloring book moana|ART_AND_DESIGN|   3.9|    967| 14M|   500,000+|Free|    0|      Everyone|Art & Design;Pret...|  January 15, 2018|             2.0.0|4.0.3 and up|\n",
      "|U Launcher Lite –...|ART_AND_DESIGN|   4.7|  87510|8.7M| 5,000,000+|Free|    0|      Everyone|        Art & Design|    August 1, 2018|             1.2.4|4.0.3 and up|\n",
      "|Sketch - Draw & P...|ART_AND_DESIGN|   4.5| 215644| 25M|50,000,000+|Free|    0|          Teen|        Art & Design|      June 8, 2018|Varies with device|  4.2 and up|\n",
      "|Pixel Draw - Numb...|ART_AND_DESIGN|   4.3|    967|2.8M|   100,000+|Free|    0|      Everyone|Art & Design;Crea...|     June 20, 2018|               1.1|  4.4 and up|\n",
      "|Paper flowers ins...|ART_AND_DESIGN|   4.4|    167|5.6M|    50,000+|Free|    0|      Everyone|        Art & Design|    March 26, 2017|               1.0|  2.3 and up|\n",
      "|Smoke Effect Phot...|ART_AND_DESIGN|   3.8|    178| 19M|    50,000+|Free|    0|      Everyone|        Art & Design|    April 26, 2018|               1.1|4.0.3 and up|\n",
      "|    Infinite Painter|ART_AND_DESIGN|   4.1|  36815| 29M| 1,000,000+|Free|    0|      Everyone|        Art & Design|     June 14, 2018|          6.1.61.1|  4.2 and up|\n",
      "|Garden Coloring Book|ART_AND_DESIGN|   4.4|  13791| 33M| 1,000,000+|Free|    0|      Everyone|        Art & Design|September 20, 2017|             2.9.2|  3.0 and up|\n",
      "|Kids Paint Free -...|ART_AND_DESIGN|   4.7|    121|3.1M|    10,000+|Free|    0|      Everyone|Art & Design;Crea...|      July 3, 2018|               2.8|4.0.3 and up|\n",
      "|Text on Photo - F...|ART_AND_DESIGN|   4.4|  13880| 28M| 1,000,000+|Free|    0|      Everyone|        Art & Design|  October 27, 2017|             1.0.4|  4.1 and up|\n",
      "|Name Art Photo Ed...|ART_AND_DESIGN|   4.4|   8788| 12M| 1,000,000+|Free|    0|      Everyone|        Art & Design|     July 31, 2018|            1.0.15|  4.0 and up|\n",
      "|Tattoo Name On My...|ART_AND_DESIGN|   4.2|  44829| 20M|10,000,000+|Free|    0|          Teen|        Art & Design|     April 2, 2018|               3.8|  4.1 and up|\n",
      "|Mandala Coloring ...|ART_AND_DESIGN|   4.6|   4326| 21M|   100,000+|Free|    0|      Everyone|        Art & Design|     June 26, 2018|             1.0.4|  4.4 and up|\n",
      "|3D Color Pixel by...|ART_AND_DESIGN|   4.4|   1518| 37M|   100,000+|Free|    0|      Everyone|        Art & Design|    August 3, 2018|             1.2.3|  2.3 and up|\n",
      "|Learn To Draw Kaw...|ART_AND_DESIGN|   3.2|     55|2.7M|     5,000+|Free|    0|      Everyone|        Art & Design|      June 6, 2018|               NaN|  4.2 and up|\n",
      "|Photo Designer - ...|ART_AND_DESIGN|   4.7|   3632|5.5M|   500,000+|Free|    0|      Everyone|        Art & Design|     July 31, 2018|               3.1|  4.1 and up|\n",
      "|350 Diy Room Deco...|ART_AND_DESIGN|   4.5|     27| 17M|    10,000+|Free|    0|      Everyone|        Art & Design|  November 7, 2017|               1.0|  2.3 and up|\n",
      "|FlipaClip - Carto...|ART_AND_DESIGN|   4.3| 194216| 39M| 5,000,000+|Free|    0|      Everyone|        Art & Design|    August 3, 2018|             2.2.5|4.0.3 and up|\n",
      "|        ibis Paint X|ART_AND_DESIGN|   4.6| 224399| 31M|10,000,000+|Free|    0|      Everyone|        Art & Design|     July 30, 2018|             5.5.4|  4.1 and up|\n",
      "+--------------------+--------------+------+-------+----+-----------+----+-----+--------------+--------------------+------------------+------------------+------------+\n",
      "only showing top 20 rows\n",
      "\n",
      "DataFrame[App: string, Category: string, Rating: string, Reviews: string, Size: string, Installs: string, Type: string, Price: string, Content Rating: string, Genres: string, Last Updated: string, Current Ver: string, Android Ver: string]\n"
     ]
    }
   ],
   "source": [
    "app = func.leer_archivo(\"/Users/franca/Documents/GitHub/ETL-con-pyspark/input_data/googleplaystore.csv\") \n",
    "print(app)"
   ]
  },
  {
   "cell_type": "code",
   "execution_count": null,
   "id": "b7456d80-fd2b-49e3-b4ad-311562e3d7ee",
   "metadata": {},
   "outputs": [
    {
     "name": "stdout",
     "output_type": "stream",
     "text": [
      "root\n",
      " |-- App: string (nullable = true)\n",
      " |-- Category: string (nullable = true)\n",
      " |-- Rating: string (nullable = true)\n",
      " |-- Reviews: string (nullable = true)\n",
      " |-- Size: string (nullable = true)\n",
      " |-- Installs: string (nullable = true)\n",
      " |-- Type: string (nullable = true)\n",
      " |-- Price: string (nullable = true)\n",
      " |-- Content Rating: string (nullable = true)\n",
      " |-- Genres: string (nullable = true)\n",
      " |-- Last Updated: string (nullable = true)\n",
      " |-- Current Ver: string (nullable = true)\n",
      " |-- Android Ver: string (nullable = true)\n",
      "\n"
     ]
    }
   ],
   "source": [
    "#imprimir el schema\n",
    "\n",
    "app.printSchema()"
   ]
  },
  {
   "cell_type": "code",
   "execution_count": null,
   "id": "c5252a88-c100-4c21-8939-e7fa75d19374",
   "metadata": {},
   "outputs": [
    {
     "name": "stdout",
     "output_type": "stream",
     "text": [
      "_____________ INFORMACIÓN GENERAL DEL CSV ____________\n",
      "\n",
      "El número de filas que tenemos es de 10841.\n",
      "El número de columnas es de 13\n",
      "\n",
      "____________ DUPLICADOS EN CADA COLUMNA ______________ \n",
      "\n",
      "Las columnas con duplicados son: App, Category, Rating, Reviews, Size, Installs, Type, Price, Content Rating, Genres, Last Updated, Current Ver, Android Ver\n",
      "\n",
      "____________ NULOS EN CADA COLUMNA ______________ \n",
      "\n",
      "Procesando columna: App\n",
      "Tipo de dato de App: string\n",
      "Nulos en App: 0, No nulos en App: 10841\n",
      "Procesando columna: Category\n",
      "Tipo de dato de Category: string\n",
      "Nulos en Category: 0, No nulos en Category: 10841\n",
      "Procesando columna: Rating\n",
      "Tipo de dato de Rating: string\n",
      "Nulos en Rating: 0, No nulos en Rating: 10841\n",
      "Procesando columna: Reviews\n",
      "Tipo de dato de Reviews: string\n",
      "Nulos en Reviews: 0, No nulos en Reviews: 10841\n",
      "Procesando columna: Size\n",
      "Tipo de dato de Size: string\n",
      "Nulos en Size: 0, No nulos en Size: 10841\n",
      "Procesando columna: Installs\n",
      "Tipo de dato de Installs: string\n",
      "Nulos en Installs: 0, No nulos en Installs: 10841\n",
      "Procesando columna: Type\n",
      "Tipo de dato de Type: string\n",
      "Nulos en Type: 0, No nulos en Type: 10841\n",
      "Procesando columna: Price\n",
      "Tipo de dato de Price: string\n",
      "Nulos en Price: 0, No nulos en Price: 10841\n",
      "Procesando columna: Content Rating\n",
      "Tipo de dato de Content Rating: string\n",
      "Nulos en Content Rating: 1, No nulos en Content Rating: 10840\n",
      "Procesando columna: Genres\n",
      "Tipo de dato de Genres: string\n",
      "Nulos en Genres: 0, No nulos en Genres: 10841\n",
      "Procesando columna: Last Updated\n",
      "Tipo de dato de Last Updated: string\n",
      "Nulos en Last Updated: 0, No nulos en Last Updated: 10841\n",
      "Procesando columna: Current Ver\n",
      "Tipo de dato de Current Ver: string\n",
      "Nulos en Current Ver: 1, No nulos en Current Ver: 10840\n",
      "Procesando columna: Android Ver\n",
      "Tipo de dato de Android Ver: string\n",
      "Nulos en Android Ver: 1, No nulos en Android Ver: 10840\n",
      "[('Content Rating', 1, 0.009224241306152568), ('Current Ver', 1, 0.009224241306152568), ('Android Ver', 1, 0.009224241306152568)]\n",
      "\n"
     ]
    }
   ],
   "source": [
    "explorar = func.exploracion_datos(app)"
   ]
  },
  {
   "cell_type": "code",
   "execution_count": null,
   "id": "4a8e9cef-2ac5-474f-8fef-2fed76c225fd",
   "metadata": {},
   "outputs": [
    {
     "name": "stdout",
     "output_type": "stream",
     "text": [
      "_____________ CORREGIR LOS REGISTROS EN LA COLUMNA RATING Y CAMBIAR EL DTYPE A DOUBLE ____________\n",
      "\n"
     ]
    }
   ],
   "source": [
    "# Definir los reemplazos\n",
    "\n",
    "print('_____________ CORREGIR LOS REGISTROS EN LA COLUMNA RATING Y CAMBIAR EL DTYPE A DOUBLE ____________\\n')\n",
    "\n",
    "\n",
    "app = app.withColumn(\n",
    "    'Rating', \n",
    "    when(col('Rating') == ' navigation', None)  # Reemplazar 'navigation' con None (equivalente a NaN)\n",
    "    .when(col('Rating') == 'Body', None)       # Reemplazar 'Body' con None\n",
    "    .when(col('Rating') == '19', '1.9')        # Reemplazar '19' con '1.9'\n",
    "    .when(col('Rating') == 'NaN', None)        # Reemplazar 'NaN' con None\n",
    "    .otherwise(col('Rating'))                  # Mantener los demás valores iguales\n",
    ")"
   ]
  },
  {
   "cell_type": "code",
   "execution_count": null,
   "id": "2e0276ba-447c-4275-ae60-6eaff63bdc47",
   "metadata": {},
   "outputs": [
    {
     "name": "stdout",
     "output_type": "stream",
     "text": [
      "_____________ CORREGIR LOS REGISTROS EN LA COLUMNA REVIEWS Y CAMBIAR EL DTYPE A DOUBLE ____________\n",
      "\n",
      "+--------------------+--------------+------+--------+----+-----------+----+-----+--------------+--------------------+------------------+------------------+------------+\n",
      "|                 App|      Category|Rating| Reviews|Size|   Installs|Type|Price|Content Rating|              Genres|      Last Updated|       Current Ver| Android Ver|\n",
      "+--------------------+--------------+------+--------+----+-----------+----+-----+--------------+--------------------+------------------+------------------+------------+\n",
      "|Photo Editor & Ca...|ART_AND_DESIGN|   4.1|   159.0| 19M|    10,000+|Free|    0|      Everyone|        Art & Design|   January 7, 2018|             1.0.0|4.0.3 and up|\n",
      "| Coloring book moana|ART_AND_DESIGN|   3.9|   967.0| 14M|   500,000+|Free|    0|      Everyone|Art & Design;Pret...|  January 15, 2018|             2.0.0|4.0.3 and up|\n",
      "|U Launcher Lite –...|ART_AND_DESIGN|   4.7| 87510.0|8.7M| 5,000,000+|Free|    0|      Everyone|        Art & Design|    August 1, 2018|             1.2.4|4.0.3 and up|\n",
      "|Sketch - Draw & P...|ART_AND_DESIGN|   4.5|215644.0| 25M|50,000,000+|Free|    0|          Teen|        Art & Design|      June 8, 2018|Varies with device|  4.2 and up|\n",
      "|Pixel Draw - Numb...|ART_AND_DESIGN|   4.3|   967.0|2.8M|   100,000+|Free|    0|      Everyone|Art & Design;Crea...|     June 20, 2018|               1.1|  4.4 and up|\n",
      "|Paper flowers ins...|ART_AND_DESIGN|   4.4|   167.0|5.6M|    50,000+|Free|    0|      Everyone|        Art & Design|    March 26, 2017|               1.0|  2.3 and up|\n",
      "|Smoke Effect Phot...|ART_AND_DESIGN|   3.8|   178.0| 19M|    50,000+|Free|    0|      Everyone|        Art & Design|    April 26, 2018|               1.1|4.0.3 and up|\n",
      "|    Infinite Painter|ART_AND_DESIGN|   4.1| 36815.0| 29M| 1,000,000+|Free|    0|      Everyone|        Art & Design|     June 14, 2018|          6.1.61.1|  4.2 and up|\n",
      "|Garden Coloring Book|ART_AND_DESIGN|   4.4| 13791.0| 33M| 1,000,000+|Free|    0|      Everyone|        Art & Design|September 20, 2017|             2.9.2|  3.0 and up|\n",
      "|Kids Paint Free -...|ART_AND_DESIGN|   4.7|   121.0|3.1M|    10,000+|Free|    0|      Everyone|Art & Design;Crea...|      July 3, 2018|               2.8|4.0.3 and up|\n",
      "|Text on Photo - F...|ART_AND_DESIGN|   4.4| 13880.0| 28M| 1,000,000+|Free|    0|      Everyone|        Art & Design|  October 27, 2017|             1.0.4|  4.1 and up|\n",
      "|Name Art Photo Ed...|ART_AND_DESIGN|   4.4|  8788.0| 12M| 1,000,000+|Free|    0|      Everyone|        Art & Design|     July 31, 2018|            1.0.15|  4.0 and up|\n",
      "|Tattoo Name On My...|ART_AND_DESIGN|   4.2| 44829.0| 20M|10,000,000+|Free|    0|          Teen|        Art & Design|     April 2, 2018|               3.8|  4.1 and up|\n",
      "|Mandala Coloring ...|ART_AND_DESIGN|   4.6|  4326.0| 21M|   100,000+|Free|    0|      Everyone|        Art & Design|     June 26, 2018|             1.0.4|  4.4 and up|\n",
      "|3D Color Pixel by...|ART_AND_DESIGN|   4.4|  1518.0| 37M|   100,000+|Free|    0|      Everyone|        Art & Design|    August 3, 2018|             1.2.3|  2.3 and up|\n",
      "|Learn To Draw Kaw...|ART_AND_DESIGN|   3.2|    55.0|2.7M|     5,000+|Free|    0|      Everyone|        Art & Design|      June 6, 2018|               NaN|  4.2 and up|\n",
      "|Photo Designer - ...|ART_AND_DESIGN|   4.7|  3632.0|5.5M|   500,000+|Free|    0|      Everyone|        Art & Design|     July 31, 2018|               3.1|  4.1 and up|\n",
      "|350 Diy Room Deco...|ART_AND_DESIGN|   4.5|    27.0| 17M|    10,000+|Free|    0|      Everyone|        Art & Design|  November 7, 2017|               1.0|  2.3 and up|\n",
      "|FlipaClip - Carto...|ART_AND_DESIGN|   4.3|194216.0| 39M| 5,000,000+|Free|    0|      Everyone|        Art & Design|    August 3, 2018|             2.2.5|4.0.3 and up|\n",
      "|        ibis Paint X|ART_AND_DESIGN|   4.6|224399.0| 31M|10,000,000+|Free|    0|      Everyone|        Art & Design|     July 30, 2018|             5.5.4|  4.1 and up|\n",
      "+--------------------+--------------+------+--------+----+-----------+----+-----+--------------+--------------------+------------------+------------------+------------+\n",
      "only showing top 20 rows\n",
      "\n"
     ]
    }
   ],
   "source": [
    "print('_____________ CORREGIR LOS REGISTROS EN LA COLUMNA REVIEWS Y CAMBIAR EL DTYPE A DOUBLE ____________\\n')\n",
    "\n",
    "# convertir a número y manejar errores\n",
    "app = app.withColumn(\n",
    "    'Reviews',\n",
    "    when(col('Reviews').cast('double').isNotNull(), col('Reviews').cast('double'))\n",
    "    .otherwise(None)  # Reemplaza valores no numéricos con None\n",
    ")\n",
    "\n",
    "# Eliminar filas con valores None en 'Reviews'\n",
    "app = app.filter(col('Reviews').isNotNull())\n",
    "\n",
    "#mostrar el DF limpio\n",
    "app.show()"
   ]
  },
  {
   "cell_type": "code",
   "execution_count": null,
   "id": "6f176d7f-e452-444d-86e4-99cc6ecbeccc",
   "metadata": {},
   "outputs": [
    {
     "name": "stdout",
     "output_type": "stream",
     "text": [
      "_____________ CORREGIR LOS REGISTROS EN LA COLUMNA SIZE Y CAMBIAR EL DTYPE A LONG ____________\n",
      "\n",
      "+--------+\n",
      "|    Size|\n",
      "+--------+\n",
      "|19000000|\n",
      "|14000000|\n",
      "| 8700000|\n",
      "|25000000|\n",
      "| 2800000|\n",
      "| 5600000|\n",
      "|19000000|\n",
      "|29000000|\n",
      "|33000000|\n",
      "| 3100000|\n",
      "|28000000|\n",
      "|12000000|\n",
      "|20000000|\n",
      "|21000000|\n",
      "|37000000|\n",
      "| 2700000|\n",
      "| 5500000|\n",
      "|17000000|\n",
      "|39000000|\n",
      "|31000000|\n",
      "+--------+\n",
      "only showing top 20 rows\n",
      "\n"
     ]
    }
   ],
   "source": [
    "print('_____________ CORREGIR LOS REGISTROS EN LA COLUMNA SIZE Y CAMBIAR EL DTYPE A LONG ____________\\n')\n",
    "\n",
    "\n",
    "app = app.withColumn('Size', \n",
    "    when(col('Size').endswith('M'), \n",
    "         (trim(regexp_replace(col('Size'), 'M', '')).cast('double') * 1000000).cast('long'))  # Convertir M a bytes\n",
    "    .when(col('Size').endswith('K'), \n",
    "         (trim(regexp_replace(col('Size'), 'K', '')).cast('double') * 1000).cast('long'))  # Convertir K a bytes\n",
    "    .when(col('Size').endswith('k'), \n",
    "         (trim(regexp_replace(col('Size'), 'k', '')).cast('double') * 1000).cast(\"long\"))  # Convertir k a bytes\n",
    "    .otherwise(None)  # Para manejar otros casos o datos no válidos\n",
    ")\n",
    "\n",
    "# Mostrar el DataFrame para verificar el cambio\n",
    "app.select('Size').show()"
   ]
  },
  {
   "cell_type": "code",
   "execution_count": null,
   "id": "0a761ace-e40e-49ae-840d-c2bc1e4192b8",
   "metadata": {},
   "outputs": [
    {
     "name": "stdout",
     "output_type": "stream",
     "text": [
      "_____________ CORREGIR LOS REGISTROS EN LA COLUMNA INSTALLS Y CAMBIAR EL DTYPE A LONG ____________\n",
      "\n",
      "+--------+\n",
      "|Installs|\n",
      "+--------+\n",
      "|   10000|\n",
      "|  500000|\n",
      "| 5000000|\n",
      "|50000000|\n",
      "|  100000|\n",
      "|   50000|\n",
      "|   50000|\n",
      "| 1000000|\n",
      "| 1000000|\n",
      "|   10000|\n",
      "| 1000000|\n",
      "| 1000000|\n",
      "|10000000|\n",
      "|  100000|\n",
      "|  100000|\n",
      "|    5000|\n",
      "|  500000|\n",
      "|   10000|\n",
      "| 5000000|\n",
      "|10000000|\n",
      "+--------+\n",
      "only showing top 20 rows\n",
      "\n"
     ]
    }
   ],
   "source": [
    "print('_____________ CORREGIR LOS REGISTROS EN LA COLUMNA INSTALLS Y CAMBIAR EL DTYPE A LONG ____________\\n')\n",
    "\n",
    "app = app.withColumn('Installs', \n",
    "                     when(col('Installs') == 'Free', None)  # Reemplazar \"Free\" con None\n",
    "                     .otherwise(\n",
    "                         regexp_replace(regexp_replace(col('Installs'), ',', ''), r'\\+', '')  # Quitar comas y signo \"+\"\n",
    "                     ).cast('int'))  # Convertir a entero\n",
    "\n",
    "# Mostrar los resultados para verificar\n",
    "app.select('Installs').show()"
   ]
  },
  {
   "cell_type": "code",
   "execution_count": null,
   "id": "c5e257e1-5951-464e-8109-636ad576e663",
   "metadata": {},
   "outputs": [
    {
     "name": "stdout",
     "output_type": "stream",
     "text": [
      "_____________ CORREGIR LOS REGISTROS EN LA COLUMNA TYPE  ____________\n",
      "\n",
      "+----+\n",
      "|Type|\n",
      "+----+\n",
      "|Free|\n",
      "|Free|\n",
      "|Free|\n",
      "|Free|\n",
      "|Free|\n",
      "|Free|\n",
      "|Free|\n",
      "|Free|\n",
      "|Free|\n",
      "|Free|\n",
      "|Free|\n",
      "|Free|\n",
      "|Free|\n",
      "|Free|\n",
      "|Free|\n",
      "|Free|\n",
      "|Free|\n",
      "|Free|\n",
      "|Free|\n",
      "|Free|\n",
      "+----+\n",
      "only showing top 20 rows\n",
      "\n"
     ]
    }
   ],
   "source": [
    "print('_____________ CORREGIR LOS REGISTROS EN LA COLUMNA TYPE  ____________\\n')\n",
    "\n",
    "app = app.fillna({'Type': 'Unknown'})\n",
    "\n",
    "# Mostrar el DataFrame para verificar el cambio\n",
    "app.select('Type').show()"
   ]
  },
  {
   "cell_type": "code",
   "execution_count": null,
   "id": "20276107-69ab-46c9-b162-2c73dafac0fa",
   "metadata": {},
   "outputs": [
    {
     "name": "stdout",
     "output_type": "stream",
     "text": [
      "_____________ CORREGIR LOS REGISTROS EN LA COLUMNA PRICE Y CAMBIAR EL DTYPE A DOUBLE ____________\n",
      "\n",
      "+-----+\n",
      "|Price|\n",
      "+-----+\n",
      "|  0.0|\n",
      "|  0.0|\n",
      "|  0.0|\n",
      "|  0.0|\n",
      "|  0.0|\n",
      "|  0.0|\n",
      "|  0.0|\n",
      "|  0.0|\n",
      "|  0.0|\n",
      "|  0.0|\n",
      "|  0.0|\n",
      "|  0.0|\n",
      "|  0.0|\n",
      "|  0.0|\n",
      "|  0.0|\n",
      "|  0.0|\n",
      "|  0.0|\n",
      "|  0.0|\n",
      "|  0.0|\n",
      "|  0.0|\n",
      "+-----+\n",
      "only showing top 20 rows\n",
      "\n"
     ]
    }
   ],
   "source": [
    "print('_____________ CORREGIR LOS REGISTROS EN LA COLUMNA PRICE Y CAMBIAR EL DTYPE A DOUBLE ____________\\n')\n",
    "\n",
    "app = app.withColumn('Price', \n",
    "                     regexp_replace(col('Price'), '\\\\$', '')  # Quitar el signo $\n",
    "                     )\n",
    "\n",
    "# Reemplazar registros que contengan 'M' o sean 'Varies with device' y 'Everyone' con None\n",
    "app = app.withColumn('Price', \n",
    "                     when(col('Price').contains('M'), None)  # Reemplazar registros con 'M' con None\n",
    "                     .when(col('Price') == 'Varies with device', None)  # Reemplazar 'Varies with device' con None\n",
    "                     .when(col('Price') == 'Everyone', None)  # Reemplazar 'Everyone' con None\n",
    "                     .otherwise(col('Price')))\n",
    "\n",
    "# Convertir la columna 'Price' a tipo numérico (double)\n",
    "app = app.withColumn('Price', col('Price').cast('double'))\n",
    "\n",
    "# Mostrar el DataFrame para verificar los cambios\n",
    "app.select('Price').show()"
   ]
  },
  {
   "cell_type": "code",
   "execution_count": null,
   "id": "c4543acb-c8cf-43fd-9b79-0a7887c8e181",
   "metadata": {},
   "outputs": [
    {
     "name": "stdout",
     "output_type": "stream",
     "text": [
      "root\n",
      " |-- App: string (nullable = true)\n",
      " |-- Category: string (nullable = true)\n",
      " |-- Rating: string (nullable = true)\n",
      " |-- Reviews: double (nullable = true)\n",
      " |-- Size: long (nullable = true)\n",
      " |-- Installs: integer (nullable = true)\n",
      " |-- Type: string (nullable = false)\n",
      " |-- Price: double (nullable = true)\n",
      " |-- Content Rating: string (nullable = true)\n",
      " |-- Genres: string (nullable = true)\n",
      " |-- Last Updated: string (nullable = true)\n",
      " |-- Current Ver: string (nullable = true)\n",
      " |-- Android Ver: string (nullable = true)\n",
      "\n"
     ]
    }
   ],
   "source": [
    "app.printSchema()"
   ]
  },
  {
   "cell_type": "code",
   "execution_count": null,
   "id": "b3fd5928-7b56-4d19-8598-c3b8a5ad0af4",
   "metadata": {},
   "outputs": [
    {
     "name": "stderr",
     "output_type": "stream",
     "text": [
      "24/10/25 12:44:54 WARN SparkStringUtils: Truncated the string representation of a plan since it was too large. This behavior can be adjusted by setting 'spark.sql.debug.maxToStringFields'.\n"
     ]
    },
    {
     "data": {
      "text/html": [
       "<div>\n",
       "<style scoped>\n",
       "    .dataframe tbody tr th:only-of-type {\n",
       "        vertical-align: middle;\n",
       "    }\n",
       "\n",
       "    .dataframe tbody tr th {\n",
       "        vertical-align: top;\n",
       "    }\n",
       "\n",
       "    .dataframe thead th {\n",
       "        text-align: right;\n",
       "    }\n",
       "</style>\n",
       "<table border=\"1\" class=\"dataframe\">\n",
       "  <thead>\n",
       "    <tr style=\"text-align: right;\">\n",
       "      <th></th>\n",
       "      <th>summary</th>\n",
       "      <th>Rating</th>\n",
       "      <th>Reviews</th>\n",
       "      <th>Size</th>\n",
       "      <th>Installs</th>\n",
       "      <th>Price</th>\n",
       "    </tr>\n",
       "  </thead>\n",
       "  <tbody>\n",
       "    <tr>\n",
       "      <th>0</th>\n",
       "      <td>count</td>\n",
       "      <td>9364</td>\n",
       "      <td>10838</td>\n",
       "      <td>9144</td>\n",
       "      <td>10838</td>\n",
       "      <td>10838</td>\n",
       "    </tr>\n",
       "    <tr>\n",
       "      <th>1</th>\n",
       "      <td>mean</td>\n",
       "      <td>4.191734301580527</td>\n",
       "      <td>444225.1924709356</td>\n",
       "      <td>2.151833578521435E7</td>\n",
       "      <td>1.546663900046134E7</td>\n",
       "      <td>1.0275576674663114</td>\n",
       "    </tr>\n",
       "    <tr>\n",
       "      <th>2</th>\n",
       "      <td>stddev</td>\n",
       "      <td>0.5152693809765408</td>\n",
       "      <td>2928025.838407947</td>\n",
       "      <td>2.2589322733755987E7</td>\n",
       "      <td>8.50370342845836E7</td>\n",
       "      <td>15.951169076625343</td>\n",
       "    </tr>\n",
       "    <tr>\n",
       "      <th>3</th>\n",
       "      <td>min</td>\n",
       "      <td>1.0</td>\n",
       "      <td>0.0</td>\n",
       "      <td>8500</td>\n",
       "      <td>0</td>\n",
       "      <td>0.0</td>\n",
       "    </tr>\n",
       "    <tr>\n",
       "      <th>4</th>\n",
       "      <td>max</td>\n",
       "      <td>5.0</td>\n",
       "      <td>7.8158306E7</td>\n",
       "      <td>100000000</td>\n",
       "      <td>1000000000</td>\n",
       "      <td>400.0</td>\n",
       "    </tr>\n",
       "  </tbody>\n",
       "</table>\n",
       "</div>"
      ],
      "text/plain": [
       "  summary              Rating            Reviews                  Size  \\\n",
       "0   count                9364              10838                  9144   \n",
       "1    mean   4.191734301580527  444225.1924709356   2.151833578521435E7   \n",
       "2  stddev  0.5152693809765408  2928025.838407947  2.2589322733755987E7   \n",
       "3     min                 1.0                0.0                  8500   \n",
       "4     max                 5.0        7.8158306E7             100000000   \n",
       "\n",
       "              Installs               Price  \n",
       "0                10838               10838  \n",
       "1  1.546663900046134E7  1.0275576674663114  \n",
       "2   8.50370342845836E7  15.951169076625343  \n",
       "3                    0                 0.0  \n",
       "4           1000000000               400.0  "
      ]
     },
     "execution_count": 12,
     "metadata": {},
     "output_type": "execute_result"
    }
   ],
   "source": [
    "#describir los datos estadisticos\n",
    "\n",
    "app['Rating', 'Reviews', 'Size', 'Installs', 'Price'].describe().toPandas()"
   ]
  },
  {
   "cell_type": "code",
   "execution_count": null,
   "id": "b63fb8cb-84ef-4ff0-82ee-a33c67d04d65",
   "metadata": {},
   "outputs": [
    {
     "name": "stdout",
     "output_type": "stream",
     "text": [
      "_____________ ANÁLISIS DE LA DISTRIBUCIÓN DE RATINGS____________\n",
      "\n",
      "_____________ Histograma para ver la distribución de valores específicos ____________\n",
      "\n"
     ]
    },
    {
     "data": {
      "image/png": "[encoded data removed]",
      "text/plain": [
       "<Figure size 1000x600 with 1 Axes>"
      ]
     },
     "metadata": {},
     "output_type": "display_data"
    }
   ],
   "source": [
    "print('_____________ ANÁLISIS DE LA DISTRIBUCIÓN DE RATINGS____________\\n')\n",
    "print('_____________ Histograma para ver la distribución de valores específicos ____________\\n')\n",
    "\n",
    "#seleccionar la columna a graficar y convertir a pandas\n",
    "\n",
    "df_ratings = app.select('Rating').toPandas()\n",
    "\n",
    "#convertir rating a numerico, forzando errores a NaN y eliminarlos\n",
    "\n",
    "df_ratings['Rating'] = pd.to_numeric(df_ratings['Rating'], errors = 'coerce')\n",
    "df_ratings = df_ratings.dropna(subset=['Rating'])\n",
    "\n",
    "#definir los intervalos personalizados y etiquetas\n",
    "\n",
    "bins = [1.0, 1.5, 2.0, 2.5, 3.0, 3.5, 4.0, 4.5, 5.0]\n",
    "labels = ['1.0 - 1.5', '1.6 - 2.0', '2.1 - 2.5', '2.6 - 3.0', '3.1 - 3.5', '3.6 - 4', '4.1 - 4.5', '4.6 - 5.0' ]\n",
    "\n",
    "# Agruparlos en los intervalos definidos \n",
    "\n",
    "df_ratings['RatingGroup'] = pd.cut(df_ratings['Rating'], bins = bins, labels = labels)\n",
    "rating_counts = df_ratings['RatingGroup'].value_counts().sort_index()\n",
    "\n",
    "#Configurar el tamaño de los gráficos\n",
    "\n",
    "plt.figure(figsize=[10, 6])\n",
    "\n",
    "#Histograma de ratingss\n",
    "\n",
    "rating_counts.plot(kind = 'bar', color = 'skyblue')\n",
    "plt.title('Distribución de ratings')\n",
    "plt.xlabel('Intervalo de ratings')\n",
    "plt.ylabel('Frecuencia')\n",
    "plt.xticks(rotation = 45)\n",
    "plt.show()"
   ]
  },
  {
   "cell_type": "code",
   "execution_count": null,
   "id": "57f1bd3c-ee01-45ee-9c89-55e310ec048a",
   "metadata": {},
   "outputs": [
    {
     "name": "stdout",
     "output_type": "stream",
     "text": [
      "_____________ Tendencia de concentración de los datos ____________\n",
      "\n"
     ]
    },
    {
     "name": "stderr",
     "output_type": "stream",
     "text": [
      "<ipython-input-14-fa96fb11069c>:5: FutureWarning: \n",
      "\n",
      "Passing `palette` without assigning `hue` is deprecated and will be removed in v0.14.0. Assign the `x` variable to `hue` and set `legend=False` for the same effect.\n",
      "\n",
      "  sns.barplot(x = rating_counts.index, y = rating_counts.values, palette = 'Blues_d')\n"
     ]
    },
    {
     "data": {
      "image/png": "[encoded data removed]",
      "text/plain": [
       "<Figure size 1000x600 with 1 Axes>"
      ]
     },
     "metadata": {},
     "output_type": "display_data"
    }
   ],
   "source": [
    "print('_____________ Tendencia de concentración de los datos ____________\\n')\n",
    "\n",
    "plt.figure(figsize = (10,6))\n",
    "sns.barplot(x = rating_counts.index, y = rating_counts.values, palette = 'Blues_d')\n",
    "plt.title('Distribución de Rating')\n",
    "plt.xlabel('Intervalo de rating')\n",
    "plt.ylabel('Frecuencia')\n",
    "plt.xticks(rotation=45)\n",
    "plt.show()"
   ]
  },
  {
   "cell_type": "code",
   "execution_count": null,
   "id": "e9f17a2a-7dda-4384-b61e-4d68cea2b335",
   "metadata": {},
   "outputs": [
    {
     "data": {
      "image/png": "[encoded data removed]",
      "text/plain": [
       "<Figure size 800x600 with 2 Axes>"
      ]
     },
     "metadata": {},
     "output_type": "display_data"
    }
   ],
   "source": [
    "#Seleccionar columnas relevantes\n",
    "#covnertir a pandas para poder graficar\n",
    "\n",
    "app_grafico = app.select('Rating', 'Reviews', 'Size').toPandas()\n",
    "\n",
    "\n",
    "#Calcular matriz de correlación\n",
    "\n",
    "matriz_correlacion = app_grafico[['Rating', 'Reviews','Size']].corr()\n",
    "\n",
    "#Visualizar la matriz de correlación\n",
    "\n",
    "plt.figure(figsize=(8,6))\n",
    "sns.heatmap(matriz_correlacion, annot = True, cmap= 'coolwarm', fmt = \".2f\")\n",
    "plt.title(\"Matriz de correlación entre Rating, Reviews, Size\")\n",
    "plt.show()"
   ]
  }
 ],
 "metadata": {
  "kernelspec": {
   "display_name": "Python 3",
   "language": "python",
   "name": "python3"
  },
  "language_info": {
   "name": "python",
   "version": "3.9.6"
  }
 },
 "nbformat": 4,
 "nbformat_minor": 2
}
